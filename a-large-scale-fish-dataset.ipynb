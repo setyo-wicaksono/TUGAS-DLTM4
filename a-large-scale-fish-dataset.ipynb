{
  "nbformat": 4,
  "nbformat_minor": 0,
  "metadata": {
    "colab": {
      "provenance": []
    },
    "kernelspec": {
      "name": "python3",
      "display_name": "Python 3"
    },
    "language_info": {
      "name": "python"
    }
  },
  "cells": [
    {
      "cell_type": "code",
      "source": [
        "import os\n",
        "from google.colab import drive\n",
        "\n",
        "drive.mount('/content/gdrive/')"
      ],
      "metadata": {
        "colab": {
          "base_uri": "https://localhost:8080/"
        },
        "id": "qSOugvknAyeU",
        "outputId": "f7220d0f-c984-4d39-cf22-47988f63ba53"
      },
      "execution_count": null,
      "outputs": [
        {
          "output_type": "stream",
          "name": "stdout",
          "text": [
            "Mounted at /content/gdrive/\n"
          ]
        }
      ]
    },
    {
      "cell_type": "code",
      "source": [
        "from pathlib import Path"
      ],
      "metadata": {
        "id": "xqZVCju0DlG6"
      },
      "execution_count": null,
      "outputs": []
    },
    {
      "cell_type": "code",
      "source": [
        "dataset_path = Path(r'/content/gdrive/MyDrive/setyo/Fish_Dataset')\n",
        "\n",
        "file_path = list(dataset_path.glob(r'**/*.png'))\n",
        "\n",
        "# create labels from the folder name\n",
        "labels = list(map(lambda x: os.path.split(os.path.split(x)[0])[1], file_path))"
      ],
      "metadata": {
        "id": "a3Km0883A35U"
      },
      "execution_count": null,
      "outputs": []
    },
    {
      "cell_type": "code",
      "source": [
        "import pandas as pd"
      ],
      "metadata": {
        "id": "NvXpzMpoF659"
      },
      "execution_count": null,
      "outputs": []
    },
    {
      "cell_type": "code",
      "source": [
        "file_path = pd.Series(file_path).astype(str)\n",
        "labels = pd.Series(labels)\n",
        "\n",
        "df = pd.concat([file_path, labels], axis=1)\n",
        "\n",
        "df.columns = ['image', 'label']\n",
        "\n",
        "df.head()"
      ],
      "metadata": {
        "colab": {
          "base_uri": "https://localhost:8080/",
          "height": 206
        },
        "id": "38M-a8QnA_KG",
        "outputId": "6e20b0c4-b5db-4d73-a9aa-ade1d40ead1b"
      },
      "execution_count": null,
      "outputs": [
        {
          "output_type": "execute_result",
          "data": {
            "text/plain": [
              "                                               image                  label\n",
              "0  /content/gdrive/MyDrive/setyo/Fish_Dataset/Fis...  Striped Red Mullet GT\n",
              "1  /content/gdrive/MyDrive/setyo/Fish_Dataset/Fis...  Striped Red Mullet GT\n",
              "2  /content/gdrive/MyDrive/setyo/Fish_Dataset/Fis...  Striped Red Mullet GT\n",
              "3  /content/gdrive/MyDrive/setyo/Fish_Dataset/Fis...  Striped Red Mullet GT\n",
              "4  /content/gdrive/MyDrive/setyo/Fish_Dataset/Fis...  Striped Red Mullet GT"
            ],
            "text/html": [
              "\n",
              "  <div id=\"df-08636987-c23c-4c5c-b638-b9584ff3d70e\" class=\"colab-df-container\">\n",
              "    <div>\n",
              "<style scoped>\n",
              "    .dataframe tbody tr th:only-of-type {\n",
              "        vertical-align: middle;\n",
              "    }\n",
              "\n",
              "    .dataframe tbody tr th {\n",
              "        vertical-align: top;\n",
              "    }\n",
              "\n",
              "    .dataframe thead th {\n",
              "        text-align: right;\n",
              "    }\n",
              "</style>\n",
              "<table border=\"1\" class=\"dataframe\">\n",
              "  <thead>\n",
              "    <tr style=\"text-align: right;\">\n",
              "      <th></th>\n",
              "      <th>image</th>\n",
              "      <th>label</th>\n",
              "    </tr>\n",
              "  </thead>\n",
              "  <tbody>\n",
              "    <tr>\n",
              "      <th>0</th>\n",
              "      <td>/content/gdrive/MyDrive/setyo/Fish_Dataset/Fis...</td>\n",
              "      <td>Striped Red Mullet GT</td>\n",
              "    </tr>\n",
              "    <tr>\n",
              "      <th>1</th>\n",
              "      <td>/content/gdrive/MyDrive/setyo/Fish_Dataset/Fis...</td>\n",
              "      <td>Striped Red Mullet GT</td>\n",
              "    </tr>\n",
              "    <tr>\n",
              "      <th>2</th>\n",
              "      <td>/content/gdrive/MyDrive/setyo/Fish_Dataset/Fis...</td>\n",
              "      <td>Striped Red Mullet GT</td>\n",
              "    </tr>\n",
              "    <tr>\n",
              "      <th>3</th>\n",
              "      <td>/content/gdrive/MyDrive/setyo/Fish_Dataset/Fis...</td>\n",
              "      <td>Striped Red Mullet GT</td>\n",
              "    </tr>\n",
              "    <tr>\n",
              "      <th>4</th>\n",
              "      <td>/content/gdrive/MyDrive/setyo/Fish_Dataset/Fis...</td>\n",
              "      <td>Striped Red Mullet GT</td>\n",
              "    </tr>\n",
              "  </tbody>\n",
              "</table>\n",
              "</div>\n",
              "    <div class=\"colab-df-buttons\">\n",
              "\n",
              "  <div class=\"colab-df-container\">\n",
              "    <button class=\"colab-df-convert\" onclick=\"convertToInteractive('df-08636987-c23c-4c5c-b638-b9584ff3d70e')\"\n",
              "            title=\"Convert this dataframe to an interactive table.\"\n",
              "            style=\"display:none;\">\n",
              "\n",
              "  <svg xmlns=\"http://www.w3.org/2000/svg\" height=\"24px\" viewBox=\"0 -960 960 960\">\n",
              "    <path d=\"M120-120v-720h720v720H120Zm60-500h600v-160H180v160Zm220 220h160v-160H400v160Zm0 220h160v-160H400v160ZM180-400h160v-160H180v160Zm440 0h160v-160H620v160ZM180-180h160v-160H180v160Zm440 0h160v-160H620v160Z\"/>\n",
              "  </svg>\n",
              "    </button>\n",
              "\n",
              "  <style>\n",
              "    .colab-df-container {\n",
              "      display:flex;\n",
              "      gap: 12px;\n",
              "    }\n",
              "\n",
              "    .colab-df-convert {\n",
              "      background-color: #E8F0FE;\n",
              "      border: none;\n",
              "      border-radius: 50%;\n",
              "      cursor: pointer;\n",
              "      display: none;\n",
              "      fill: #1967D2;\n",
              "      height: 32px;\n",
              "      padding: 0 0 0 0;\n",
              "      width: 32px;\n",
              "    }\n",
              "\n",
              "    .colab-df-convert:hover {\n",
              "      background-color: #E2EBFA;\n",
              "      box-shadow: 0px 1px 2px rgba(60, 64, 67, 0.3), 0px 1px 3px 1px rgba(60, 64, 67, 0.15);\n",
              "      fill: #174EA6;\n",
              "    }\n",
              "\n",
              "    .colab-df-buttons div {\n",
              "      margin-bottom: 4px;\n",
              "    }\n",
              "\n",
              "    [theme=dark] .colab-df-convert {\n",
              "      background-color: #3B4455;\n",
              "      fill: #D2E3FC;\n",
              "    }\n",
              "\n",
              "    [theme=dark] .colab-df-convert:hover {\n",
              "      background-color: #434B5C;\n",
              "      box-shadow: 0px 1px 3px 1px rgba(0, 0, 0, 0.15);\n",
              "      filter: drop-shadow(0px 1px 2px rgba(0, 0, 0, 0.3));\n",
              "      fill: #FFFFFF;\n",
              "    }\n",
              "  </style>\n",
              "\n",
              "    <script>\n",
              "      const buttonEl =\n",
              "        document.querySelector('#df-08636987-c23c-4c5c-b638-b9584ff3d70e button.colab-df-convert');\n",
              "      buttonEl.style.display =\n",
              "        google.colab.kernel.accessAllowed ? 'block' : 'none';\n",
              "\n",
              "      async function convertToInteractive(key) {\n",
              "        const element = document.querySelector('#df-08636987-c23c-4c5c-b638-b9584ff3d70e');\n",
              "        const dataTable =\n",
              "          await google.colab.kernel.invokeFunction('convertToInteractive',\n",
              "                                                    [key], {});\n",
              "        if (!dataTable) return;\n",
              "\n",
              "        const docLinkHtml = 'Like what you see? Visit the ' +\n",
              "          '<a target=\"_blank\" href=https://colab.research.google.com/notebooks/data_table.ipynb>data table notebook</a>'\n",
              "          + ' to learn more about interactive tables.';\n",
              "        element.innerHTML = '';\n",
              "        dataTable['output_type'] = 'display_data';\n",
              "        await google.colab.output.renderOutput(dataTable, element);\n",
              "        const docLink = document.createElement('div');\n",
              "        docLink.innerHTML = docLinkHtml;\n",
              "        element.appendChild(docLink);\n",
              "      }\n",
              "    </script>\n",
              "  </div>\n",
              "\n",
              "\n",
              "<div id=\"df-8e3a3fb6-3617-4230-a3c4-5bec6ec85ac0\">\n",
              "  <button class=\"colab-df-quickchart\" onclick=\"quickchart('df-8e3a3fb6-3617-4230-a3c4-5bec6ec85ac0')\"\n",
              "            title=\"Suggest charts\"\n",
              "            style=\"display:none;\">\n",
              "\n",
              "<svg xmlns=\"http://www.w3.org/2000/svg\" height=\"24px\"viewBox=\"0 0 24 24\"\n",
              "     width=\"24px\">\n",
              "    <g>\n",
              "        <path d=\"M19 3H5c-1.1 0-2 .9-2 2v14c0 1.1.9 2 2 2h14c1.1 0 2-.9 2-2V5c0-1.1-.9-2-2-2zM9 17H7v-7h2v7zm4 0h-2V7h2v10zm4 0h-2v-4h2v4z\"/>\n",
              "    </g>\n",
              "</svg>\n",
              "  </button>\n",
              "\n",
              "<style>\n",
              "  .colab-df-quickchart {\n",
              "      --bg-color: #E8F0FE;\n",
              "      --fill-color: #1967D2;\n",
              "      --hover-bg-color: #E2EBFA;\n",
              "      --hover-fill-color: #174EA6;\n",
              "      --disabled-fill-color: #AAA;\n",
              "      --disabled-bg-color: #DDD;\n",
              "  }\n",
              "\n",
              "  [theme=dark] .colab-df-quickchart {\n",
              "      --bg-color: #3B4455;\n",
              "      --fill-color: #D2E3FC;\n",
              "      --hover-bg-color: #434B5C;\n",
              "      --hover-fill-color: #FFFFFF;\n",
              "      --disabled-bg-color: #3B4455;\n",
              "      --disabled-fill-color: #666;\n",
              "  }\n",
              "\n",
              "  .colab-df-quickchart {\n",
              "    background-color: var(--bg-color);\n",
              "    border: none;\n",
              "    border-radius: 50%;\n",
              "    cursor: pointer;\n",
              "    display: none;\n",
              "    fill: var(--fill-color);\n",
              "    height: 32px;\n",
              "    padding: 0;\n",
              "    width: 32px;\n",
              "  }\n",
              "\n",
              "  .colab-df-quickchart:hover {\n",
              "    background-color: var(--hover-bg-color);\n",
              "    box-shadow: 0 1px 2px rgba(60, 64, 67, 0.3), 0 1px 3px 1px rgba(60, 64, 67, 0.15);\n",
              "    fill: var(--button-hover-fill-color);\n",
              "  }\n",
              "\n",
              "  .colab-df-quickchart-complete:disabled,\n",
              "  .colab-df-quickchart-complete:disabled:hover {\n",
              "    background-color: var(--disabled-bg-color);\n",
              "    fill: var(--disabled-fill-color);\n",
              "    box-shadow: none;\n",
              "  }\n",
              "\n",
              "  .colab-df-spinner {\n",
              "    border: 2px solid var(--fill-color);\n",
              "    border-color: transparent;\n",
              "    border-bottom-color: var(--fill-color);\n",
              "    animation:\n",
              "      spin 1s steps(1) infinite;\n",
              "  }\n",
              "\n",
              "  @keyframes spin {\n",
              "    0% {\n",
              "      border-color: transparent;\n",
              "      border-bottom-color: var(--fill-color);\n",
              "      border-left-color: var(--fill-color);\n",
              "    }\n",
              "    20% {\n",
              "      border-color: transparent;\n",
              "      border-left-color: var(--fill-color);\n",
              "      border-top-color: var(--fill-color);\n",
              "    }\n",
              "    30% {\n",
              "      border-color: transparent;\n",
              "      border-left-color: var(--fill-color);\n",
              "      border-top-color: var(--fill-color);\n",
              "      border-right-color: var(--fill-color);\n",
              "    }\n",
              "    40% {\n",
              "      border-color: transparent;\n",
              "      border-right-color: var(--fill-color);\n",
              "      border-top-color: var(--fill-color);\n",
              "    }\n",
              "    60% {\n",
              "      border-color: transparent;\n",
              "      border-right-color: var(--fill-color);\n",
              "    }\n",
              "    80% {\n",
              "      border-color: transparent;\n",
              "      border-right-color: var(--fill-color);\n",
              "      border-bottom-color: var(--fill-color);\n",
              "    }\n",
              "    90% {\n",
              "      border-color: transparent;\n",
              "      border-bottom-color: var(--fill-color);\n",
              "    }\n",
              "  }\n",
              "</style>\n",
              "\n",
              "  <script>\n",
              "    async function quickchart(key) {\n",
              "      const quickchartButtonEl =\n",
              "        document.querySelector('#' + key + ' button');\n",
              "      quickchartButtonEl.disabled = true;  // To prevent multiple clicks.\n",
              "      quickchartButtonEl.classList.add('colab-df-spinner');\n",
              "      try {\n",
              "        const charts = await google.colab.kernel.invokeFunction(\n",
              "            'suggestCharts', [key], {});\n",
              "      } catch (error) {\n",
              "        console.error('Error during call to suggestCharts:', error);\n",
              "      }\n",
              "      quickchartButtonEl.classList.remove('colab-df-spinner');\n",
              "      quickchartButtonEl.classList.add('colab-df-quickchart-complete');\n",
              "    }\n",
              "    (() => {\n",
              "      let quickchartButtonEl =\n",
              "        document.querySelector('#df-8e3a3fb6-3617-4230-a3c4-5bec6ec85ac0 button');\n",
              "      quickchartButtonEl.style.display =\n",
              "        google.colab.kernel.accessAllowed ? 'block' : 'none';\n",
              "    })();\n",
              "  </script>\n",
              "</div>\n",
              "    </div>\n",
              "  </div>\n"
            ],
            "application/vnd.google.colaboratory.intrinsic+json": {
              "type": "dataframe",
              "variable_name": "df",
              "summary": "{\n  \"name\": \"df\",\n  \"rows\": 18000,\n  \"fields\": [\n    {\n      \"column\": \"image\",\n      \"properties\": {\n        \"dtype\": \"string\",\n        \"num_unique_values\": 18000,\n        \"samples\": [\n          \"/content/gdrive/MyDrive/setyo/Fish_Dataset/Fish_Dataset/Hourse Mackerel/Hourse Mackerel/00552.png\",\n          \"/content/gdrive/MyDrive/setyo/Fish_Dataset/Fish_Dataset/Trout/Trout GT/00841.png\",\n          \"/content/gdrive/MyDrive/setyo/Fish_Dataset/Fish_Dataset/Shrimp/Shrimp GT/00113.png\"\n        ],\n        \"semantic_type\": \"\",\n        \"description\": \"\"\n      }\n    },\n    {\n      \"column\": \"label\",\n      \"properties\": {\n        \"dtype\": \"category\",\n        \"num_unique_values\": 18,\n        \"samples\": [\n          \"Striped Red Mullet GT\",\n          \"Striped Red Mullet\",\n          \"Shrimp\"\n        ],\n        \"semantic_type\": \"\",\n        \"description\": \"\"\n      }\n    }\n  ]\n}"
            }
          },
          "metadata": {},
          "execution_count": 6
        }
      ]
    },
    {
      "cell_type": "code",
      "source": [
        "import matplotlib.pyplot as plt"
      ],
      "metadata": {
        "id": "8rKycugBHJPm"
      },
      "execution_count": null,
      "outputs": []
    },
    {
      "cell_type": "code",
      "source": [
        "fig, axes = plt.subplots(nrows=3, ncols=5, figsize=(15,10), subplot_kw={'xticks':[], 'yticks':[]})\n",
        "for i, ax in enumerate(axes.flat):\n",
        "    ax.imshow(plt.imread(df.image[i]))\n",
        "    ax.set_title(df.label[i])\n",
        "\n",
        "plt.show()"
      ],
      "metadata": {
        "colab": {
          "base_uri": "https://localhost:8080/",
          "height": 739
        },
        "id": "YZq5UfXqHRM-",
        "outputId": "6ee2bc65-57f2-4ef2-c280-813c79fbe002"
      },
      "execution_count": null,
      "outputs": [
        {
          "output_type": "display_data",
          "data": {
            "text/plain": [
              "<Figure size 1500x1000 with 15 Axes>"
            ],
            "image/png": "[encoded data removed]"
          },
          "metadata": {}
        }
      ]
    },
    {
      "cell_type": "code",
      "source": [
        "df.label.value_counts()"
      ],
      "metadata": {
        "colab": {
          "base_uri": "https://localhost:8080/"
        },
        "id": "rsZHdyi6HUd1",
        "outputId": "a12c2c43-d271-454e-8d19-124c7dcc45cd"
      },
      "execution_count": null,
      "outputs": [
        {
          "output_type": "execute_result",
          "data": {
            "text/plain": [
              "label\n",
              "Striped Red Mullet GT    1000\n",
              "Striped Red Mullet       1000\n",
              "Red Sea Bream            1000\n",
              "Sea Bass                 1000\n",
              "Sea Bass GT              1000\n",
              "Black Sea Sprat          1000\n",
              "Black Sea Sprat GT       1000\n",
              "Gilt-Head Bream          1000\n",
              "Gilt-Head Bream GT       1000\n",
              "Shrimp GT                1000\n",
              "Shrimp                   1000\n",
              "Trout GT                 1000\n",
              "Trout                    1000\n",
              "Red Mullet GT            1000\n",
              "Red Mullet               1000\n",
              "Hourse Mackerel GT       1000\n",
              "Hourse Mackerel          1000\n",
              "Red Sea Bream GT         1000\n",
              "Name: count, dtype: int64"
            ]
          },
          "metadata": {},
          "execution_count": 9
        }
      ]
    },
    {
      "cell_type": "code",
      "source": [
        "df = df[df['label'].apply(lambda x: x[-2:] != 'GT')].reset_index(drop=True)\n",
        "df.label.value_counts()"
      ],
      "metadata": {
        "colab": {
          "base_uri": "https://localhost:8080/"
        },
        "id": "QnNxRaEBHWw0",
        "outputId": "ab1e82c0-eeed-4ab4-ed94-c95e734b725e"
      },
      "execution_count": null,
      "outputs": [
        {
          "output_type": "execute_result",
          "data": {
            "text/plain": [
              "label\n",
              "Striped Red Mullet    1000\n",
              "Hourse Mackerel       1000\n",
              "Red Mullet            1000\n",
              "Trout                 1000\n",
              "Shrimp                1000\n",
              "Gilt-Head Bream       1000\n",
              "Black Sea Sprat       1000\n",
              "Sea Bass              1000\n",
              "Red Sea Bream         1000\n",
              "Name: count, dtype: int64"
            ]
          },
          "metadata": {},
          "execution_count": 10
        }
      ]
    },
    {
      "cell_type": "code",
      "source": [
        "from sklearn.model_selection import train_test_split"
      ],
      "metadata": {
        "id": "xNyL4zWcHW9M"
      },
      "execution_count": null,
      "outputs": []
    },
    {
      "cell_type": "code",
      "source": [
        "x_train, x_test = train_test_split(df, test_size=0.3,random_state=30)\n",
        "x_train, x_val = train_test_split(x_train, test_size=0.2, random_state=30)"
      ],
      "metadata": {
        "id": "xGqTmpIOHuUH"
      },
      "execution_count": null,
      "outputs": []
    },
    {
      "cell_type": "code",
      "source": [
        "print(\"Shape of training data\", x_train.shape)\n",
        "print(\"Shape of test data\", x_test.shape)\n",
        "print(\"Shape of validation data\", x_val.shape)"
      ],
      "metadata": {
        "colab": {
          "base_uri": "https://localhost:8080/"
        },
        "id": "__v1Ie27HugV",
        "outputId": "cbbf14f2-f760-4b08-fc27-510400d987bb"
      },
      "execution_count": null,
      "outputs": [
        {
          "output_type": "stream",
          "name": "stdout",
          "text": [
            "Shape of training data (5040, 2)\n",
            "Shape of test data (2700, 2)\n",
            "Shape of validation data (1260, 2)\n"
          ]
        }
      ]
    },
    {
      "cell_type": "code",
      "source": [
        "import tensorflow as tf\n",
        "from keras.preprocessing.image import ImageDataGenerator\n",
        "from keras.models import Sequential, Model\n",
        "from keras.layers import Dense, Flatten, Dropout, GlobalAveragePooling2D\n",
        "from tensorflow.keras.preprocessing.image import ImageDataGenerator\n"
      ],
      "metadata": {
        "id": "ZKALaJNoH16d"
      },
      "execution_count": null,
      "outputs": []
    },
    {
      "cell_type": "code",
      "source": [
        "image_data_generator = ImageDataGenerator(rescale = 1./255,\n",
        "    rotation_range=40,\n",
        "      width_shift_range=0.2,\n",
        "      height_shift_range=0.2,\n",
        "      shear_range=0.2,\n",
        "      zoom_range=0.2,\n",
        "      horizontal_flip=True,\n",
        "      fill_mode='nearest')\n",
        "\n",
        "train = image_data_generator.flow_from_dataframe(dataframe=x_train, x_col='image', y_col='label', target_size=(200,200), color_mode='rgb', class_mode='categorical', shuffle=False)\n",
        "test = image_data_generator.flow_from_dataframe(dataframe=x_test, x_col='image', y_col='label', target_size=(200,200), color_mode='rgb', class_mode='categorical', shuffle=False)\n",
        "val = image_data_generator.flow_from_dataframe(dataframe=x_val, x_col='image', y_col='label', target_size=(200,200), color_mode='rgb', class_mode='categorical',shuffle=False)"
      ],
      "metadata": {
        "colab": {
          "base_uri": "https://localhost:8080/"
        },
        "id": "jwPyAjKfH1_F",
        "outputId": "5a758260-ec0a-438f-abc6-c7558d23ce8a"
      },
      "execution_count": null,
      "outputs": [
        {
          "output_type": "stream",
          "name": "stdout",
          "text": [
            "Found 5040 validated image filenames belonging to 9 classes.\n",
            "Found 2700 validated image filenames belonging to 9 classes.\n",
            "Found 1260 validated image filenames belonging to 9 classes.\n"
          ]
        }
      ]
    },
    {
      "cell_type": "code",
      "source": [
        "input_shape = (200, 200, 3)"
      ],
      "metadata": {
        "id": "IRcLf62uIUqO"
      },
      "execution_count": null,
      "outputs": []
    },
    {
      "cell_type": "code",
      "source": [
        "model = tf.keras.models.Sequential([\n",
        "    tf.keras.layers.Conv2D(64, (3,3), activation='relu', input_shape=input_shape ),\n",
        "    tf.keras.layers.MaxPool2D(pool_size = (2,2)),\n",
        "    tf.keras.layers.Conv2D(64, (3,3), activation='relu'),\n",
        "    tf.keras.layers.MaxPool2D(pool_size = (2,2)),\n",
        "    tf.keras.layers.Conv2D(32, (3,3), activation='relu'),\n",
        "    tf.keras.layers.MaxPool2D(pool_size = (2,2)),\n",
        "    tf.keras.layers.Conv2D(32, (3,3), activation='relu'),\n",
        "    tf.keras.layers.MaxPool2D(pool_size = (2,2)),\n",
        "    tf.keras.layers.Flatten(),\n",
        "    tf.keras.layers.Dense(512, activation='relu'),\n",
        "    tf.keras.layers.Dense(128, activation='relu'),\n",
        "    tf.keras.layers.Dropout(0.2),\n",
        "    tf.keras.layers.Dense(128, activation='relu'),\n",
        "    tf.keras.layers.Dropout(0.2),\n",
        "    tf.keras.layers.Dense(9, activation='softmax')\n",
        "])\n",
        "\n",
        "model.summary()"
      ],
      "metadata": {
        "colab": {
          "base_uri": "https://localhost:8080/"
        },
        "id": "xsmTazkmIU5m",
        "outputId": "04203d10-0302-4080-caf1-4a7b05c0c212"
      },
      "execution_count": null,
      "outputs": [
        {
          "output_type": "stream",
          "name": "stdout",
          "text": [
            "Model: \"sequential\"\n",
            "_________________________________________________________________\n",
            " Layer (type)                Output Shape              Param #   \n",
            "=================================================================\n",
            " conv2d (Conv2D)             (None, 198, 198, 64)      1792      \n",
            "                                                                 \n",
            " max_pooling2d (MaxPooling2  (None, 99, 99, 64)        0         \n",
            " D)                                                              \n",
            "                                                                 \n",
            " conv2d_1 (Conv2D)           (None, 97, 97, 64)        36928     \n",
            "                                                                 \n",
            " max_pooling2d_1 (MaxPoolin  (None, 48, 48, 64)        0         \n",
            " g2D)                                                            \n",
            "                                                                 \n",
            " conv2d_2 (Conv2D)           (None, 46, 46, 32)        18464     \n",
            "                                                                 \n",
            " max_pooling2d_2 (MaxPoolin  (None, 23, 23, 32)        0         \n",
            " g2D)                                                            \n",
            "                                                                 \n",
            " conv2d_3 (Conv2D)           (None, 21, 21, 32)        9248      \n",
            "                                                                 \n",
            " max_pooling2d_3 (MaxPoolin  (None, 10, 10, 32)        0         \n",
            " g2D)                                                            \n",
            "                                                                 \n",
            " flatten (Flatten)           (None, 3200)              0         \n",
            "                                                                 \n",
            " dense (Dense)               (None, 512)               1638912   \n",
            "                                                                 \n",
            " dense_1 (Dense)             (None, 128)               65664     \n",
            "                                                                 \n",
            " dropout (Dropout)           (None, 128)               0         \n",
            "                                                                 \n",
            " dense_2 (Dense)             (None, 128)               16512     \n",
            "                                                                 \n",
            " dropout_1 (Dropout)         (None, 128)               0         \n",
            "                                                                 \n",
            " dense_3 (Dense)             (None, 9)                 1161      \n",
            "                                                                 \n",
            "=================================================================\n",
            "Total params: 1788681 (6.82 MB)\n",
            "Trainable params: 1788681 (6.82 MB)\n",
            "Non-trainable params: 0 (0.00 Byte)\n",
            "_________________________________________________________________\n"
          ]
        }
      ]
    },
    {
      "cell_type": "code",
      "source": [
        "from tensorflow.keras.optimizers import Adam"
      ],
      "metadata": {
        "id": "F__We_L2Igwu"
      },
      "execution_count": null,
      "outputs": []
    },
    {
      "cell_type": "code",
      "source": [
        "model.compile(optimizer=\"adam\", loss='categorical_crossentropy', metrics=[\"accuracy\"])\n",
        "\n",
        "callback = tf.keras.callbacks.EarlyStopping(monitor='accuracy', patience=4)\n",
        "\n",
        "history = model.fit(train, validation_data=val, epochs=20, callbacks=callback)"
      ],
      "metadata": {
        "colab": {
          "base_uri": "https://localhost:8080/"
        },
        "id": "T8xTdLr7Ig4c",
        "outputId": "30199389-5a02-4914-9575-dd8e3b7dca23"
      },
      "execution_count": null,
      "outputs": [
        {
          "output_type": "stream",
          "name": "stdout",
          "text": [
            "Epoch 1/20\n",
            "158/158 [==============================] - 2417s 15s/step - loss: 2.0940 - accuracy: 0.1548 - val_loss: 1.6259 - val_accuracy: 0.3413\n",
            "Epoch 2/20\n",
            "158/158 [==============================] - 701s 4s/step - loss: 1.5314 - accuracy: 0.3786 - val_loss: 1.6072 - val_accuracy: 0.3484\n",
            "Epoch 3/20\n",
            "158/158 [==============================] - 688s 4s/step - loss: 1.3733 - accuracy: 0.4444 - val_loss: 1.1383 - val_accuracy: 0.5341\n",
            "Epoch 4/20\n",
            "158/158 [==============================] - 702s 4s/step - loss: 1.1925 - accuracy: 0.5188 - val_loss: 1.1817 - val_accuracy: 0.5246\n",
            "Epoch 5/20\n",
            "158/158 [==============================] - 696s 4s/step - loss: 1.0220 - accuracy: 0.5766 - val_loss: 0.8517 - val_accuracy: 0.6603\n",
            "Epoch 6/20\n",
            "158/158 [==============================] - 693s 4s/step - loss: 0.8715 - accuracy: 0.6615 - val_loss: 0.9205 - val_accuracy: 0.6365\n",
            "Epoch 7/20\n",
            "158/158 [==============================] - 694s 4s/step - loss: 0.7209 - accuracy: 0.7212 - val_loss: 0.6416 - val_accuracy: 0.7556\n",
            "Epoch 8/20\n",
            "158/158 [==============================] - 703s 4s/step - loss: 0.6152 - accuracy: 0.7728 - val_loss: 0.5285 - val_accuracy: 0.7984\n",
            "Epoch 9/20\n",
            "158/158 [==============================] - 705s 4s/step - loss: 0.5257 - accuracy: 0.8067 - val_loss: 0.3953 - val_accuracy: 0.8468\n",
            "Epoch 10/20\n",
            "158/158 [==============================] - 721s 5s/step - loss: 0.4504 - accuracy: 0.8304 - val_loss: 0.4392 - val_accuracy: 0.8302\n",
            "Epoch 11/20\n",
            "158/158 [==============================] - 696s 4s/step - loss: 0.4154 - accuracy: 0.8486 - val_loss: 0.6440 - val_accuracy: 0.7770\n",
            "Epoch 12/20\n",
            "158/158 [==============================] - 700s 4s/step - loss: 0.3728 - accuracy: 0.8669 - val_loss: 0.3080 - val_accuracy: 0.8952\n",
            "Epoch 13/20\n",
            "158/158 [==============================] - 720s 5s/step - loss: 0.3157 - accuracy: 0.8837 - val_loss: 0.2932 - val_accuracy: 0.8913\n",
            "Epoch 14/20\n",
            "158/158 [==============================] - 693s 4s/step - loss: 0.2790 - accuracy: 0.8984 - val_loss: 0.2769 - val_accuracy: 0.8929\n",
            "Epoch 15/20\n",
            "158/158 [==============================] - 714s 5s/step - loss: 0.3031 - accuracy: 0.8938 - val_loss: 0.3647 - val_accuracy: 0.8635\n",
            "Epoch 16/20\n",
            "158/158 [==============================] - 701s 4s/step - loss: 0.2695 - accuracy: 0.9018 - val_loss: 0.2043 - val_accuracy: 0.9254\n",
            "Epoch 17/20\n",
            "158/158 [==============================] - 695s 4s/step - loss: 0.2297 - accuracy: 0.9175 - val_loss: 0.2915 - val_accuracy: 0.8984\n",
            "Epoch 18/20\n",
            "158/158 [==============================] - 700s 4s/step - loss: 0.2380 - accuracy: 0.9216 - val_loss: 0.2037 - val_accuracy: 0.9198\n",
            "Epoch 19/20\n",
            "158/158 [==============================] - 700s 4s/step - loss: 0.2253 - accuracy: 0.9190 - val_loss: 0.2284 - val_accuracy: 0.9087\n",
            "Epoch 20/20\n",
            "158/158 [==============================] - 702s 4s/step - loss: 0.2031 - accuracy: 0.9339 - val_loss: 0.2393 - val_accuracy: 0.9063\n"
          ]
        }
      ]
    },
    {
      "cell_type": "code",
      "source": [
        "model.save('model-1.h5')"
      ],
      "metadata": {
        "colab": {
          "base_uri": "https://localhost:8080/"
        },
        "id": "rTp4OwqOIr5u",
        "outputId": "c948c848-dca3-4369-ccf3-0996ac2019a4"
      },
      "execution_count": null,
      "outputs": [
        {
          "output_type": "stream",
          "name": "stderr",
          "text": [
            "/usr/local/lib/python3.10/dist-packages/keras/src/engine/training.py:3103: UserWarning: You are saving your model as an HDF5 file via `model.save()`. This file format is considered legacy. We recommend using instead the native Keras format, e.g. `model.save('my_model.keras')`.\n",
            "  saving_api.save_model(\n"
          ]
        }
      ]
    },
    {
      "cell_type": "code",
      "source": [
        "accuracy = history.history['accuracy']\n",
        "val_accuracy  = history.history['val_accuracy']\n",
        "\n",
        "loss = history.history['loss']\n",
        "val_loss = history.history['val_loss']"
      ],
      "metadata": {
        "id": "9ZBk9s-uIr9K"
      },
      "execution_count": null,
      "outputs": []
    },
    {
      "cell_type": "code",
      "source": [
        "plt.figure(figsize=(15,10))\n",
        "\n",
        "plt.subplot(2, 2, 1)\n",
        "plt.plot(accuracy, label = \"Training accuracy\")\n",
        "plt.plot(val_accuracy, label=\"Validation accuracy\")\n",
        "plt.legend()\n",
        "plt.title(\"Training vs validation accuracy\")\n",
        "\n",
        "\n",
        "plt.subplot(2,2,2)\n",
        "plt.plot(loss, label = \"Training loss\")\n",
        "plt.plot(val_loss, label=\"Validation loss\")\n",
        "plt.legend()\n",
        "plt.title(\"Training vs validation loss\")\n",
        "\n",
        "plt.show()"
      ],
      "metadata": {
        "colab": {
          "base_uri": "https://localhost:8080/",
          "height": 414
        },
        "id": "BCNZLwJYIyv3",
        "outputId": "8e599960-f352-477b-b83e-822f0b1c3392"
      },
      "execution_count": null,
      "outputs": [
        {
          "output_type": "display_data",
          "data": {
            "text/plain": [
              "<Figure size 1500x1000 with 2 Axes>"
            ],
            "image/png": "[encoded data removed]"
          },
          "metadata": {}
        }
      ]
    },
    {
      "cell_type": "code",
      "source": [
        "pred = model.predict(test)"
      ],
      "metadata": {
        "colab": {
          "base_uri": "https://localhost:8080/"
        },
        "id": "cSc7jjSnI65u",
        "outputId": "930b4d71-3492-405e-edfd-62ad356fb6c8"
      },
      "execution_count": null,
      "outputs": [
        {
          "output_type": "stream",
          "name": "stdout",
          "text": [
            "85/85 [==============================] - 1193s 14s/step\n"
          ]
        }
      ]
    },
    {
      "cell_type": "code",
      "source": [
        "import numpy as np\n",
        "pred = np.argmax(pred, axis=1)"
      ],
      "metadata": {
        "id": "RBYA6FAjI69_"
      },
      "execution_count": null,
      "outputs": []
    },
    {
      "cell_type": "code",
      "source": [
        "labels = train.class_indices"
      ],
      "metadata": {
        "id": "M909HeZkI-8O"
      },
      "execution_count": null,
      "outputs": []
    },
    {
      "cell_type": "code",
      "source": [
        "labels"
      ],
      "metadata": {
        "colab": {
          "base_uri": "https://localhost:8080/"
        },
        "id": "pukY-N9FJrqW",
        "outputId": "41cdb8e4-4de4-4a9e-ec5f-606c298b5d23"
      },
      "execution_count": null,
      "outputs": [
        {
          "output_type": "execute_result",
          "data": {
            "text/plain": [
              "{'Black Sea Sprat': 0,\n",
              " 'Gilt-Head Bream': 1,\n",
              " 'Hourse Mackerel': 2,\n",
              " 'Red Mullet': 3,\n",
              " 'Red Sea Bream': 4,\n",
              " 'Sea Bass': 5,\n",
              " 'Shrimp': 6,\n",
              " 'Striped Red Mullet': 7,\n",
              " 'Trout': 8}"
            ]
          },
          "metadata": {},
          "execution_count": 26
        }
      ]
    },
    {
      "cell_type": "code",
      "source": [
        "labels = dict((v,k) for k, v in labels.items())"
      ],
      "metadata": {
        "id": "DYB80DllJrue"
      },
      "execution_count": null,
      "outputs": []
    },
    {
      "cell_type": "code",
      "source": [
        "labels"
      ],
      "metadata": {
        "colab": {
          "base_uri": "https://localhost:8080/"
        },
        "id": "pAkD5JdnB3hy",
        "outputId": "2402f329-449f-4041-86a1-7f722404a3c7"
      },
      "execution_count": null,
      "outputs": [
        {
          "output_type": "execute_result",
          "data": {
            "text/plain": [
              "{0: 'Black Sea Sprat',\n",
              " 1: 'Gilt-Head Bream',\n",
              " 2: 'Hourse Mackerel',\n",
              " 3: 'Red Mullet',\n",
              " 4: 'Red Sea Bream',\n",
              " 5: 'Sea Bass',\n",
              " 6: 'Shrimp',\n",
              " 7: 'Striped Red Mullet',\n",
              " 8: 'Trout'}"
            ]
          },
          "metadata": {},
          "execution_count": 28
        }
      ]
    },
    {
      "cell_type": "code",
      "source": [
        "y_pred = [labels[k] for k in pred]"
      ],
      "metadata": {
        "id": "80T9eq31CL6Z"
      },
      "execution_count": null,
      "outputs": []
    },
    {
      "cell_type": "code",
      "source": [
        "from sklearn.metrics import classification_report, confusion_matrix"
      ],
      "metadata": {
        "id": "tAWFuSlbCMZK"
      },
      "execution_count": null,
      "outputs": []
    },
    {
      "cell_type": "code",
      "source": [
        "print(classification_report(x_test.label, y_pred))"
      ],
      "metadata": {
        "colab": {
          "base_uri": "https://localhost:8080/"
        },
        "id": "yoHu5oL-CMdb",
        "outputId": "13171900-b304-4ff2-e29b-39776b542b74"
      },
      "execution_count": null,
      "outputs": [
        {
          "output_type": "stream",
          "name": "stdout",
          "text": [
            "                    precision    recall  f1-score   support\n",
            "\n",
            "   Black Sea Sprat       1.00      0.96      0.98       291\n",
            "   Gilt-Head Bream       0.92      0.54      0.68       321\n",
            "   Hourse Mackerel       0.93      0.99      0.96       301\n",
            "        Red Mullet       1.00      0.99      1.00       314\n",
            "     Red Sea Bream       0.67      0.98      0.80       287\n",
            "          Sea Bass       0.92      0.89      0.90       293\n",
            "            Shrimp       0.96      1.00      0.98       298\n",
            "Striped Red Mullet       0.98      0.92      0.95       305\n",
            "             Trout       0.95      0.98      0.96       290\n",
            "\n",
            "          accuracy                           0.91      2700\n",
            "         macro avg       0.93      0.92      0.91      2700\n",
            "      weighted avg       0.93      0.91      0.91      2700\n",
            "\n"
          ]
        }
      ]
    },
    {
      "cell_type": "code",
      "source": [
        "print(confusion_matrix(x_test.label, y_pred))"
      ],
      "metadata": {
        "colab": {
          "base_uri": "https://localhost:8080/"
        },
        "id": "yOc3V2Q7CcsK",
        "outputId": "915bb149-f427-4647-82b1-df353925db56"
      },
      "execution_count": null,
      "outputs": [
        {
          "output_type": "stream",
          "name": "stdout",
          "text": [
            "[[279   0  11   0   0   1   0   0   0]\n",
            " [  0 174   4   0 116  17   0   0  10]\n",
            " [  0   0 298   0   1   2   0   0   0]\n",
            " [  0   0   0 311   0   0   0   3   0]\n",
            " [  0   0   5   0 281   0   0   0   1]\n",
            " [  0   9   1   0  15 261   0   3   4]\n",
            " [  0   0   0   0   0   0 298   0   0]\n",
            " [  0   6   2   0   0   2  13 282   0]\n",
            " [  0   0   0   0   5   1   0   0 284]]\n"
          ]
        }
      ]
    }
  ]
}